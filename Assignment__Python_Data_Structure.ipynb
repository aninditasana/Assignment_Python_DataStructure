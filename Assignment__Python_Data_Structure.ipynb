{
  "cells": [
    {
      "cell_type": "markdown",
      "metadata": {
        "id": "-dfrvpeQnbcz"
      },
      "source": [
        "# **Data Types and Structures Questions:**\n"
      ]
    },
    {
      "cell_type": "markdown",
      "metadata": {
        "id": "MZWMjZxlogMi"
      },
      "source": [
        "**1.What are data structures and why are they important ?**\n",
        "\n",
        "Data structures are organized ways to store, manage, and retrieve data efficiently in a computer.\n",
        "\n",
        "Importance of Data Structure :\n",
        "\n",
        "Efficient Data Management :Help organize large amounts of data so it's easy to access and modify.\n",
        "Faster Searching & Sorting: Certain data structures  allow faster operations.\n",
        "Memory Optimization: Help reduce memory usage by using optimal storage formats.\n",
        "Foundation for Algorithms: Most algorithms rely on data structures to work correctly and efficiently.\n",
        "Real-world Problem Solving: Useful in tasks like file systems, databases, social networks, etc.\n",
        "Helps in Decision Making: Choosing the right data structure can improve performance drastically.\n",
        "\n",
        "Examples: List,tuple,sets"
      ]
    },
    {
      "cell_type": "markdown",
      "metadata": {
        "id": "2co6hoi9oX1Q"
      },
      "source": [
        "**2. Explain the difference between mutable and immutable data types with examples:**\n",
        "\n",
        "Mutable:\n",
        "Objects that can be changed after they are created.\n",
        "No new memory location is created\n",
        "\n",
        "Example :list, dict, set\n",
        "\n",
        "\n",
        "\n",
        "\n",
        "Immutable:\n",
        "Objects that cannot be changed after they are created.\n",
        "Creation of new  memory location at any changes\n",
        "\n",
        "Examples: int, float, str, tuple\""
      ]
    },
    {
      "cell_type": "markdown",
      "metadata": {
        "id": "ceca4cde"
      },
      "source": [
        "**3.What are the main differences between lists and tuples in Python ?**\n",
        "\n",
        "Difference bwtween List and tuple\n",
        "1. Mutability:\n",
        "Lists are mutable whereas tuples are immutable.\n",
        "This means you can change, add, or remove elements in a list, but you cannot modify a tuple after it's created.\n",
        "2. Syntax:\n",
        "Lists use square brackets [ ], whereas tuples use parentheses ( ).\n",
        "This means you define a list like [1, 2, 3] and a tuple like (1, 2, 3).\n",
        "3. Methods Available:\n",
        "Lists have many built-in methods, whereas tuples have very few.\n",
        "This means you can modify a list using methods like append(), pop(), or sort(), but tuples only support count() and index().\n",
        "4. Performance:\n",
        "Tuples are faster in performance than lists.\n",
        "This is because tuples are immutable and require less overhead, making them more efficient in fixed-size data operations.\n",
        "5. Memory Usage: Tuples use less memory than lists.\n",
        "Since tuples are fixed in size, they consume less memory than dynamic lists.\n",
        "6. Use Case: Lists are used when data can change, whereas tuples are used for fixed data.\n",
        "This means use lists for dynamic operations, and tuples when you want to protect data from modification."
      ]
    },
    {
      "cell_type": "markdown",
      "metadata": {
        "id": "c6fc0fbd"
      },
      "source": [
        "**4.Describe how dictionaries store data:**\n",
        "\n",
        "A dictionary in Python is a collection of key-value pairs, where each key is unique and is used to access its corresponding value.\n",
        "\n",
        "Dictionaries store data:\n",
        "\n",
        "A dictionary stores data as key-value pairs.\n",
        "The key is used to identify the data.\n",
        "The value is the data associated with that key.\n",
        "It allows for quick access, update, and deletion of data using keys."
      ]
    },
    {
      "cell_type": "markdown",
      "metadata": {
        "id": "4e4455d8"
      },
      "source": [
        "**5. Why might you use a set instead of a list in Python?**\n",
        "\n",
        "You might choose a set over a list in Python 3 for the following reasons:\n",
        "\n",
        "1.  **Uniqueness**: Sets automatically store only unique elements, eliminating duplicates. If you need a collection of distinct items, a set is more efficient and straightforward than using a list and manually checking for duplicates.\n",
        "2.  **Membership Testing**: Checking if an element is in a set is significantly faster than checking in a list, especially for large collections. This is because sets are implemented using hash tables, allowing for average O(1) time complexity for membership tests.\n",
        "3.  **Mathematical Set Operations**: Sets provide built-in methods for mathematical set operations like union, intersection, difference, and symmetric difference. These operations are concise and efficient when working with sets.\n",
        "4.  **No Order Guarantee**: If the order of elements does not matter, sets can be a good choice. Unlike lists, sets do not maintain the order of elements, which can sometimes lead to performance optimizations.\n",
        "\n",
        "**Examples:**\n",
        "\n",
        "*   **Removing Duplicates**: If you have a list with duplicates and want to get a list of unique items, converting it to a set and then back to a list is a common approach: `list(set(my_list))`\n",
        "*   **Checking for Presence**: To quickly check if an item exists in a large collection: `if item in my_set:`\n",
        "*   **Finding Common Elements**: To find elements present in two collections: `set1.intersection(set2)`"
      ]
    },
    {
      "cell_type": "markdown",
      "metadata": {
        "id": "21b3f2a1"
      },
      "source": [
        "**6. What is a string in Python, and how is it different from a list?**\n",
        "\n",
        "A string in Python is a sequence of characters. It's used to represent text. Strings are immutable, meaning once you create a string, you cannot change individual characters within it. Any operation that appears to modify a string actually creates a new string.\n",
        "\n",
        "A list in Python, on the other hand, is an ordered collection of items. Lists are mutable, meaning you can add, remove, or change elements within a list after it's created. Lists can contain items of different data types (integers, strings, other lists, etc.).\n",
        "\n",
        "Here are the key differences:\n",
        "\n",
        "*   **Mutability:** Strings are immutable, lists are mutable.\n",
        "*   **Data Type:** Strings store sequences of characters (text), while lists can store items of any data type.\n",
        "*   **Purpose:** Strings are primarily used for working with text, while lists are used for ordered collections of items.\n",
        "*   **Operations:** While both support operations like indexing and slicing, lists have many more methods for modifying the collection (e.g., `append()`, `pop()`, `sort()`) that are not available for strings due to their immutability."
      ]
    },
    {
      "cell_type": "markdown",
      "metadata": {
        "id": "105e1a0f"
      },
      "source": [
        "**7. How do tuples ensure data integrity in Python?**\n",
        "\n",
        "Tuples ensure data integrity in Python primarily because they are **immutable**. This means that once a tuple is created, its contents cannot be changed. This immutability provides data integrity in several ways:\n",
        "\n",
        "*   **Protection against accidental modification:** Since elements cannot be added, removed, or modified after creation, you prevent unintended changes to the data. This is especially useful when dealing with data that should remain constant.\n",
        "*   **Thread safety:** In multi-threaded environments, immutable objects like tuples are inherently thread-safe because multiple threads can access the same tuple without the risk of one thread modifying it while another is reading it.\n",
        "*   **Using as dictionary keys:** Because tuples are immutable and hashable (if their elements are also immutable), they can be used as keys in dictionaries. This is not possible with mutable data structures like lists. Using tuples as dictionary keys allows you to create composite keys that are guaranteed not to change.\n",
        "*   **Representing fixed data:** Tuples are ideal for representing collections of related items where the order and content are fixed, such as coordinates (x, y), or a date (year, month, day).\n",
        "\n",
        "In summary, the immutability of tuples is the core reason they contribute to data integrity. It guarantees that the data within a tuple remains unchanged throughout its lifetime, making it a reliable choice for representing fixed and protected data."
      ]
    },
    {
      "cell_type": "markdown",
      "metadata": {
        "id": "4659fc6e"
      },
      "source": [
        "**8. What is a hash table, and how does it relate to dictionaries in Python?**\n",
        "\n",
        "A **hash table** (also known as a hash map or dictionary) is a data structure that stores key-value pairs. It uses a **hash function** to compute an index into an array of buckets or slots, from which the corresponding value can be found.\n",
        "\n",
        "Here's how it works and how it relates to dictionaries in Python:\n",
        "\n",
        "1.  **Hash Function:** When you want to store a key-value pair, the hash function takes the key as input and produces an integer, called the hash value. This hash value is then used to determine where in the internal array the value should be stored.\n",
        "2.  **Buckets/Slots:** The internal array of the hash table consists of buckets or slots. The hash value computed from the key maps to a specific bucket where the key-value pair is stored.\n",
        "3.  **Collision Handling:** It's possible for two different keys to produce the same hash value. This is called a collision. Hash tables have mechanisms to handle collisions, such as chaining (storing multiple key-value pairs with the same hash value in a linked list within the bucket) or open addressing (probing for the next available slot).\n",
        "4.  **Retrieval:** When you want to retrieve a value using a key, the hash function is applied to the key again to get the hash value. This hash value points to the bucket where the value is likely stored. The system then searches within that bucket to find the specific key and retrieve its associated value.\n",
        "\n",
        "**How it Relates to Dictionaries in Python:**\n",
        "\n",
        "Python dictionaries are implemented using hash tables. When you create a dictionary and add key-value pairs, Python internally uses a hash table to store this data.\n",
        "\n",
        "*   The keys of a dictionary must be **hashable**. This means they must have a hash value that doesn't change during their lifetime (hence, immutable types like strings, numbers, and tuples can be dictionary keys, while mutable types like lists and sets cannot).\n",
        "*   Python's dictionary implementation handles the hashing of keys, mapping them to specific locations in the internal structure, and managing collisions efficiently.\n",
        "*   This hash table implementation is what makes dictionary lookups, insertions, and deletions very fast on average (O(1) time complexity).\n",
        "\n",
        "In essence, a hash table is the underlying mechanism that powers the efficient key-value storage and retrieval capabilities of Python dictionaries."
      ]
    },
    {
      "cell_type": "markdown",
      "metadata": {
        "id": "8935c547"
      },
      "source": [
        "**9. Can lists contain different data types in Python?**\n",
        "\n",
        "Yes, lists in Python can contain different data types. Lists are heterogeneous, meaning they can store elements of various types within the same list, such as integers, strings, floats, and even other lists or objects.\n",
        "\n",
        "For example:"
      ]
    },
    {
      "cell_type": "code",
      "execution_count": null,
      "metadata": {
        "colab": {
          "base_uri": "https://localhost:8080/",
          "height": 34
        },
        "id": "605627ec",
        "outputId": "7efb095b-bb6e-4be5-bffe-4af2e415e9e2"
      },
      "outputs": [
        {
          "data": {
            "text/plain": [
              "[1, 'hello', 3.14, [1, 2], (5, 6), {'a': 1}]"
            ]
          },
          "metadata": {},
          "output_type": "display_data"
        }
      ],
      "source": [
        "my_list = [1, \"hello\", 3.14, [1, 2], (5, 6), {\"a\": 1}]\n",
        "display(my_list)"
      ]
    },
    {
      "cell_type": "markdown",
      "metadata": {
        "id": "98984377"
      },
      "source": [
        "**10.Why are strings immutable in Python?**\n",
        "\n",
        "Strings in Python are immutable, meaning their contents cannot be changed after they are created. While this might seem like a limitation, there are several important reasons for this design choice:\n",
        "\n",
        "1.  **Performance Optimization:** Python can optimize the storage and handling of immutable objects like strings. Since the content of a string is guaranteed not to change, Python can perform certain optimizations internally, potentially leading to better performance in some scenarios, such as string interning (where identical string literals are stored only once in memory).\n",
        "2.  **Thread Safety:** In multi-threaded environments, immutable objects are inherently thread-safe. Multiple threads can access and read the same string without the risk of one thread modifying it while another is using it. This simplifies concurrent programming.\n",
        "3.  **Hashability:** Immutable objects can be hashable, meaning they have a fixed hash value that doesn't change during their lifetime. This allows strings to be used as keys in dictionaries and elements in sets, which rely on hashing for efficient lookup. Mutable objects, like lists, cannot be used as dictionary keys or set elements because their hash value could change.\n",
        "4.  **Predictability and Reliability:** Immutability makes code more predictable and reliable. When you pass a string to a function, you know that the function cannot accidentally modify the original string. This prevents unexpected side effects and makes debugging easier.\n",
        "5.  **Internal Implementation:** The internal implementation of strings in Python is optimized for fixed-size sequences of characters. Allowing in-place modification would require a different, potentially less efficient, internal structure.\n",
        "\n",
        "While you cannot change a string in place, operations that appear to modify a string (like concatenation or slicing) actually create a *new* string with the desired changes. This \"copy-on-modify\" behavior ensures that the original string remains unchanged."
      ]
    },
    {
      "cell_type": "markdown",
      "metadata": {
        "id": "6c61f5aa"
      },
      "source": [
        "**11. What advantages do dictionaries offer over lists for certain tasks?**\n",
        "\n",
        "Dictionaries offer several advantages over lists, particularly when you need to quickly access, retrieve, or organize data based on unique identifiers rather than numerical indices. Here are some key advantages:\n",
        "\n",
        "1.  **Fast Lookups (by Key):** Dictionaries provide very fast lookups based on keys. On average, retrieving a value from a dictionary using its key takes constant time (O(1)). Lists require iterating through elements to find a specific value (O(n) in the worst case), which becomes slower as the list grows. This makes dictionaries ideal for scenarios where you need to frequently search for data.\n",
        "2.  **Associative Arrays (Key-Value Pairs):** Dictionaries store data as key-value pairs, which allows you to associate a value with a meaningful key. This makes the data more self-descriptive and easier to understand compared to lists where data is accessed by numerical index.\n",
        "3.  **No Order Dependency (in older Python versions):** While dictionaries in Python 3.7+ maintain insertion order, historically, they did not guarantee order. This lack of order dependency (in older versions) could sometimes lead to performance optimizations. Even with insertion order, accessing data by key is the primary mechanism, not by position.\n",
        "4.  **Efficient Data Organization:** Dictionaries are excellent for organizing data where each item has a unique identifier. For example, storing information about users where each user has a unique ID, or storing configuration settings where each setting has a unique name.\n",
        "5.  **Easy to Add, Modify, and Delete Entries (by Key):** Adding, modifying, or deleting entries in a dictionary is efficient and straightforward using the key. This is often more intuitive than managing elements by index in a list, especially when dealing with non-sequential data.\n",
        "6.  **Representing Structured Data:** Dictionaries are well-suited for representing structured data, similar to how objects or records are represented in other programming languages. You can nest dictionaries and lists within each other to create complex data structures.\n",
        "\n",
        "**When to use Dictionaries vs. Lists:**\n",
        "\n",
        "*   **Use a dictionary** when you need to store data as key-value pairs and efficiently retrieve data based on unique keys (e.g., looking up a user by their ID, storing configuration options by name).\n",
        "*   **Use a list** when you need an ordered collection of items and access or iterate through data based on their position or index (e.g., a list of sequential events, a collection of items where order matters)."
      ]
    },
    {
      "cell_type": "markdown",
      "metadata": {
        "id": "d600e323"
      },
      "source": [
        "**12. Describe a scenario where using a tuple would be preferable over a list.**\n",
        "\n",
        "A scenario where using a tuple would be preferable over a list is when you need to represent a collection of related data that should **not be changed** after it's created. Because tuples are immutable, they are ideal for ensuring data integrity and preventing accidental modification.\n",
        "\n",
        "For example, consider representing a geographical coordinate (latitude, longitude). A coordinate is a fixed pair of values that typically doesn't change. Using a tuple `(latitude, longitude)` is suitable here because:\n",
        "\n",
        "*   **Immutability:** It guarantees that the latitude and longitude values cannot be accidentally altered after the coordinate is defined.\n",
        "*   **Data Integrity:** It ensures that the coordinate remains a consistent pair, preventing errors that could arise from modifying individual components of a list.\n",
        "*   **Hashability:** Since tuples are immutable, they can be used as keys in dictionaries or elements in sets, which might be useful if you were storing information related to specific coordinates.\n",
        "\n",
        "If you were to use a list `[latitude, longitude]` for a coordinate, there would be no guarantee that the list wouldn't be modified (e.g., accidentally appending another value or changing one of the coordinates), which could lead to unexpected behavior or errors in your program.\n",
        "\n",
        "Therefore, for representing fixed, ordered collections of data that should remain constant, a tuple is the preferred choice for its immutability and the data integrity it provides."
      ]
    },
    {
      "cell_type": "code",
      "execution_count": null,
      "metadata": {
        "colab": {
          "base_uri": "https://localhost:8080/"
        },
        "id": "d38c76ba",
        "outputId": "f4e3d3f5-cb1c-48f5-bd40-91f632db373b"
      },
      "outputs": [
        {
          "name": "stdout",
          "output_type": "stream",
          "text": [
            "Coordinate (tuple): (34.0522, -118.2437)\n",
            "Attempting to modify tuple failed: 'tuple' object does not support item assignment\n",
            "Coordinate (list) before modification: [34.0522, -118.2437]\n",
            "Coordinate (list) after modification: [35.0, -118.2437]\n"
          ]
        }
      ],
      "source": [
        "# Using a tuple for a fixed coordinate\n",
        "coordinate_tuple = (34.0522, -118.2437)\n",
        "print(f\"Coordinate (tuple): {coordinate_tuple}\")\n",
        "\n",
        "# Attempting to modify a tuple (will result in an error)\n",
        "try:\n",
        "    coordinate_tuple[0] = 35.0000\n",
        "except TypeError as e:\n",
        "    print(f\"Attempting to modify tuple failed: {e}\")\n",
        "\n",
        "# Using a list for a coordinate (can be modified)\n",
        "coordinate_list = [34.0522, -118.2437]\n",
        "print(f\"Coordinate (list) before modification: {coordinate_list}\")\n",
        "\n",
        "# Modifying a list\n",
        "coordinate_list[0] = 35.0000\n",
        "print(f\"Coordinate (list) after modification: {coordinate_list}\")"
      ]
    },
    {
      "cell_type": "markdown",
      "metadata": {
        "id": "f99bd1b6"
      },
      "source": [
        "**13.How do sets handle duplicate values in Python?**\n",
        "\n",
        "Sets in Python are designed to store only **unique** elements. When you add elements to a set, any duplicate values are automatically discarded. This is a fundamental characteristic of sets and is one of their primary uses.\n",
        "\n",
        "Here's how it works:\n",
        "\n",
        "*   When you create a set from an iterable (like a list or tuple) that contains duplicates, the resulting set will only include one instance of each unique element.\n",
        "*   If you try to add an element to a set that is already present, the operation will simply be ignored, and the set will remain unchanged.\n",
        "\n",
        "This behavior makes sets ideal for tasks such as:\n",
        "\n",
        "*   Removing duplicates from a collection of data.\n",
        "*   Efficiently checking for the presence of an element (membership testing).\n",
        "*   Performing mathematical set operations like union, intersection, and difference, which inherently deal with unique elements.\n"
      ]
    },
    {
      "cell_type": "markdown",
      "metadata": {
        "id": "faf10cc1"
      },
      "source": [
        "**14.How does the “in” keyword work differently for lists and dictionaries?**\n",
        "\n",
        "The `in` keyword in Python is used for membership testing, checking if an element exists within a collection. While it's used with both lists and dictionaries, how it works internally and what it checks for is different due to the underlying structure of these data types:\n",
        "\n",
        "**For Lists:**\n",
        "\n",
        "When you use the `in` keyword with a list (`element in my_list`), Python iterates through the elements of the list one by one and checks if the `element` is equal to any of the items in the list.\n",
        "\n",
        "*   **Behavior:** It checks for the presence of a **value** within the list.\n",
        "*   **Performance:** In the worst case (the element is not in the list or is the last element), this requires checking every element in the list. This means the time complexity for membership testing in a list is generally O(n), where n is the number of elements in the list. For very large lists, this can be slow.\n",
        "\n",
        "**For Dictionaries:**\n",
        "\n",
        "When you use the `in` keyword with a dictionary (`key in my_dictionary`), Python checks for the presence of a **key** within the dictionary's keys. It does **not** check for the presence of a value. Python uses the dictionary's underlying hash table to perform a very fast lookup for the key.\n",
        "\n",
        "*   **Behavior:** It checks for the presence of a **key** within the dictionary's keys.\n",
        "*   **Performance:** Because dictionaries are implemented using hash tables, checking for a key's existence is typically very fast, with an average time complexity of O(1). This makes checking for membership in a dictionary significantly faster than in a list, especially for large collections.\n",
        "\n",
        "**In summary:**\n",
        "\n",
        "*   `element in list`: Checks if an element's **value** exists in the list (O(n) on average).\n",
        "*   `key in dictionary`: Checks if a **key** exists in the dictionary (O(1) on average).\n",
        "\n",
        "If you want to check if a **value** exists in a dictionary, you would typically check the dictionary's values or items:"
      ]
    },
    {
      "cell_type": "markdown",
      "metadata": {
        "id": "NJlm8JNbzPTl"
      },
      "source": [
        "**15.Can you modify the elements of a tuple? Explain why or why not?**\n",
        "You cannot modify the elements of a tuple after it has been created. Tuples are immutable in Python, meaning their contents are fixed. Any operation that seems to change a tuple actually creates a new tuple. This immutability is why tuples are useful for representing fixed data and can be used as dictionary keys."
      ]
    },
    {
      "cell_type": "code",
      "execution_count": null,
      "metadata": {
        "colab": {
          "base_uri": "https://localhost:8080/"
        },
        "id": "f9595fe9",
        "outputId": "84289dc9-ac29-4e13-ff43-f9b06f5361e9"
      },
      "outputs": [
        {
          "name": "stdout",
          "output_type": "stream",
          "text": [
            "Original tuple: (10, 20, 30)\n",
            "Error when trying to modify tuple: 'tuple' object does not support item assignment\n",
            "\n",
            "Original list: [10, 20, 30]\n",
            "List after modification: [5, 20, 30]\n"
          ]
        }
      ],
      "source": [
        "# Example of an immutable tuple\n",
        "my_tuple = (10, 20, 30)\n",
        "print(f\"Original tuple: {my_tuple}\")\n",
        "\n",
        "# Attempting to modify an element in the tuple\n",
        "try:\n",
        "    my_tuple[0] = 5  # This will raise a TypeError\n",
        "except TypeError as e:\n",
        "    print(f\"Error when trying to modify tuple: {e}\")\n",
        "\n",
        "# Example of a mutable list for comparison\n",
        "my_list = [10, 20, 30]\n",
        "print(f\"\\nOriginal list: {my_list}\")\n",
        "\n",
        "# Modifying an element in the list\n",
        "my_list[0] = 5\n",
        "print(f\"List after modification: {my_list}\")"
      ]
    },
    {
      "cell_type": "markdown",
      "metadata": {
        "id": "a9f2209a"
      },
      "source": [
        "**16. What is a nested dictionary, and give an example of its use case?**\n",
        "\n",
        "A **nested dictionary** is a dictionary where the values are themselves other dictionaries. This allows you to create hierarchical data structures, representing more complex relationships between data. Think of it as a dictionary within a dictionary.\n",
        "\n",
        "Each inner dictionary is associated with a key in the outer dictionary, and these inner dictionaries can in turn contain their own key-value pairs, including other nested dictionaries. This structure is very useful for organizing data that has multiple levels of categorization or attributes.\n",
        "\n",
        "**Use Case Example: Storing Information about Multiple Users**\n",
        "\n",
        "A common use case for nested dictionaries is to store structured information about multiple entities, such as users in a system. You could have an outer dictionary where each key is a unique user ID, and the corresponding value is another dictionary containing that user's details (like name, age, email, address, etc.). The address itself could be another nested dictionary with keys for street, city, state, and zip code."
      ]
    },
    {
      "cell_type": "code",
      "execution_count": null,
      "metadata": {
        "colab": {
          "base_uri": "https://localhost:8080/"
        },
        "id": "53074e4f",
        "outputId": "d2de8496-35d3-4aa9-a2bc-eb3069f6e7d8"
      },
      "outputs": [
        {
          "name": "stdout",
          "output_type": "stream",
          "text": [
            "User 1's name: Alice Smith\n",
            "User 2's city: Otherville\n",
            "\n",
            "All users: {'user1': {'name': 'Alice Smith', 'age': 30, 'email': 'alice.smith@example.com', 'address': {'street': '123 Main St', 'city': 'Anytown', 'state': 'CA', 'zip': '91234'}}, 'user2': {'name': 'Bob Johnson', 'age': 25, 'email': 'bob.johnson@example.com', 'address': {'street': '456 Oak Ave', 'city': 'Otherville', 'state': 'NY', 'zip': '10001'}, 'phone': '555-1234'}, 'user3': {'name': 'Charlie Brown', 'age': 35, 'email': 'charlie.b@example.com', 'address': {'street': '789 Pine Ln', 'city': 'Smallville', 'state': 'KS', 'zip': '66002'}}}\n"
          ]
        }
      ],
      "source": [
        "# Example of a nested dictionary for user data\n",
        "users = {\n",
        "    \"user1\": {\n",
        "        \"name\": \"Alice Smith\",\n",
        "        \"age\": 30,\n",
        "        \"email\": \"alice.smith@example.com\",\n",
        "        \"address\": {\n",
        "            \"street\": \"123 Main St\",\n",
        "            \"city\": \"Anytown\",\n",
        "            \"state\": \"CA\",\n",
        "            \"zip\": \"91234\"\n",
        "        }\n",
        "    },\n",
        "    \"user2\": {\n",
        "        \"name\": \"Bob Johnson\",\n",
        "        \"age\": 25,\n",
        "        \"email\": \"bob.johnson@example.com\",\n",
        "        \"address\": {\n",
        "            \"street\": \"456 Oak Ave\",\n",
        "            \"city\": \"Otherville\",\n",
        "            \"state\": \"NY\",\n",
        "            \"zip\": \"10001\"\n",
        "        },\n",
        "        \"phone\": \"555-1234\" # Users can have different attributes\n",
        "    }\n",
        "}\n",
        "\n",
        "# Accessing data in the nested dictionary\n",
        "print(\"User 1's name:\", users[\"user1\"][\"name\"])\n",
        "print(\"User 2's city:\", users[\"user2\"][\"address\"][\"city\"])\n",
        "\n",
        "# Adding a new user\n",
        "users[\"user3\"] = {\n",
        "    \"name\": \"Charlie Brown\",\n",
        "    \"age\": 35,\n",
        "    \"email\": \"charlie.b@example.com\",\n",
        "    \"address\": {\n",
        "        \"street\": \"789 Pine Ln\",\n",
        "        \"city\": \"Smallville\",\n",
        "        \"state\": \"KS\",\n",
        "        \"zip\": \"66002\"\n",
        "    }\n",
        "}\n",
        "\n",
        "print(\"\\nAll users:\", users)"
      ]
    },
    {
      "cell_type": "markdown",
      "metadata": {
        "id": "afdd5de1"
      },
      "source": [
        "**17. Describe the time complexity of accessing elements in a dictionary.**\n",
        "\n",
        "Accessing elements (retrieving a value using its key) in a Python dictionary has an **average time complexity of O(1)** (constant time).\n",
        "\n",
        "Here's why:\n",
        "\n",
        "Dictionaries are implemented using **hash tables**. When you access an element using a key, Python:\n",
        "\n",
        "1.  Calculates the hash value of the key using a hash function.\n",
        "2.  Uses this hash value to quickly locate the bucket or slot in the underlying array where the key-value pair is stored.\n",
        "\n",
        "In the ideal case, where the hash function distributes keys evenly and there are no collisions (or very few collisions), this lookup process takes a constant amount of time, regardless of how many items are in the dictionary.\n",
        "\n",
        "**Worst-Case Scenario:**\n",
        "\n",
        "In the worst-case scenario, where there are many hash collisions (multiple keys mapping to the same bucket), accessing an element might degrade to O(n) (linear time), where n is the number of items in the dictionary. This can happen with poorly chosen hash functions or specific data patterns that lead to many collisions. However, Python's dictionary implementation and hash function are designed to minimize collisions in practice, making the average case O(1) the typical performance you will observe.\n",
        "\n",
        "**In summary:**\n",
        "\n",
        "*   **Average Case:** O(1) - Very fast, constant time.\n",
        "*   **Worst Case:** O(n) - Linear time (rare in practice due to good hash function design).\n",
        "\n",
        "This O(1) average time complexity is a major advantage of dictionaries over lists for tasks that involve frequent lookups by a specific identifier (the key), as list lookups by value are typically O(n)."
      ]
    },
    {
      "cell_type": "markdown",
      "metadata": {
        "id": "f9c47215"
      },
      "source": [
        "**18. In what situations are lists preferred over dictionaries?**\n",
        "\n",
        "While dictionaries are excellent for key-value lookups, lists are preferred in several situations, primarily when the order of elements matters, or when you need to store a collection of items that are accessed sequentially or by their position. Here are some scenarios where lists are generally a better choice than dictionaries:\n",
        "\n",
        "1.  **When the order of elements is important:** Lists maintain the insertion order of elements. If the sequence or position of items is crucial for your data or logic, a list is the appropriate data structure. Dictionaries (in versions prior to Python 3.7) did not guarantee order, and even with insertion order in newer versions, accessing by index is not the primary way to interact with a dictionary.\n",
        "2.  **When you need to access elements by their position (index):** Lists allow for quick access to elements using their integer index (e.g., `my_list[0]` for the first element). If your use case involves frequent access to elements based on their position in a sequence, lists are more suitable.\n",
        "3.  **When you have a collection of items where duplicates are allowed and meaningful:** Lists can contain duplicate elements, and each occurrence is treated as a distinct item at a specific position. Sets, for example, automatically discard duplicates, and while dictionaries can have duplicate values, their keys must be unique. If duplicates are important for your data representation, use a list.\n",
        "4.  **When you need to perform operations that are naturally sequential:** Operations like iterating through all elements in a specific order, slicing a sequence, or inserting/removing elements at a specific position are more naturally handled with lists.\n",
        "5.  **When you don't have a unique, meaningful key for each item:** Dictionaries require a unique key to access each value efficiently. If your data doesn't have a natural key or identifier for each item, using a list where items are accessed by their position is more practical.\n",
        "6.  **When the data is a simple sequence:** For simple collections of items where the relationships between them are primarily based on their order, a list is a simpler and more intuitive choice than creating key-value pairs in a dictionary.\n",
        "\n",
        "**Examples:**\n",
        "\n",
        "*   A list of steps in a process (order matters).\n",
        "*   A sequence of numbers to be processed in a specific order.\n",
        "*   A collection of student scores where the order they were recorded is relevant.\n",
        "*   A history of commands entered by a user.\n",
        "\n",
        "In these cases, the structure and operations of a list align better with the requirements of the task than a dictionary."
      ]
    },
    {
      "cell_type": "markdown",
      "metadata": {
        "id": "319413f9"
      },
      "source": [
        "**19.Why were dictionaries considered unordered, and how did that affect data retrieval?**\n",
        "\n",
        "In **older versions of Python (prior to 3.7)**, dictionaries were considered **unordered**. This meant that the order in which you inserted key-value pairs into a dictionary was **not guaranteed** to be the order in which they were stored or retrieved. When you iterated over a dictionary or accessed its elements, the order could vary depending on the history of insertions and deletions, and even across different runs of the same program or different Python implementations.\n",
        "\n",
        "This lack of guaranteed order had the following effects on data retrieval:\n",
        "\n",
        "1.  **No Index-Based Access:** You could not reliably access elements by their position or index, as you would with a list or tuple. Accessing `my_dict[0]` was not possible because dictionaries didn't have a fixed, numerical order.\n",
        "2.  **Iteration Order Was Unpredictable:** When you iterated through the keys, values, or items of a dictionary using a `for` loop, the order in which they were returned was not predictable. This meant you couldn't rely on the iteration order for any logic that depended on a specific sequence.\n",
        "3.  **Hashing Determined Storage:** The storage location and thus the retrieval order were determined by the hash values of the keys. While this allowed for fast lookups (O(1) on average), it didn't maintain any relationship to the order of insertion.\n",
        "\n",
        "**Change in Python 3.7 and later:**\n",
        "\n",
        "Starting with **Python 3.7**, the insertion order of items in dictionaries is **guaranteed**. This means that when you iterate over a dictionary, the items will be returned in the order they were added. This change was a significant update and made dictionaries more predictable and useful in scenarios where order matters.\n",
        "\n",
        "However, even with insertion order guaranteed, the primary way to access data in a dictionary is still by its **key**, not by its numerical position like in a list. While the order is maintained, dictionaries are still fundamentally designed for fast key-based lookups, which is their main advantage over lists for certain tasks.\n",
        "\n",
        "So, while modern Python dictionaries maintain insertion order, the historical \"unordered\" nature meant you couldn't rely on positional access or predictable iteration order for data retrieval."
      ]
    },
    {
      "cell_type": "code",
      "execution_count": null,
      "metadata": {
        "colab": {
          "base_uri": "https://localhost:8080/"
        },
        "id": "638b7df6",
        "outputId": "3ea9a7a5-af18-4f29-bdc3-7ad029bdf53a"
      },
      "outputs": [
        {
          "name": "stdout",
          "output_type": "stream",
          "text": [
            "Dictionary as created: {'apple': 1, 'banana': 2, 'cherry': 3}\n",
            "Items in insertion order:\n",
            "apple: 1\n",
            "banana: 2\n",
            "cherry: 3\n",
            "\n",
            "Dictionary after adding 'date': {'apple': 1, 'banana': 2, 'cherry': 3, 'date': 4}\n",
            "Items after adding 'date':\n",
            "apple: 1\n",
            "banana: 2\n",
            "cherry: 3\n",
            "date: 4\n"
          ]
        }
      ],
      "source": [
        "# Example demonstrating dictionary order (Python 3.7+)\n",
        "my_dict = {\"apple\": 1, \"banana\": 2, \"cherry\": 3}\n",
        "print(\"Dictionary as created:\", my_dict)\n",
        "\n",
        "# Iterating through the dictionary\n",
        "print(\"Items in insertion order:\")\n",
        "for key, value in my_dict.items():\n",
        "    print(f\"{key}: {value}\")\n",
        "\n",
        "# Adding a new item\n",
        "my_dict[\"date\"] = 4\n",
        "print(\"\\nDictionary after adding 'date':\", my_dict)\n",
        "\n",
        "# Iterating again to show insertion order is maintained\n",
        "print(\"Items after adding 'date':\")\n",
        "for key, value in my_dict.items():\n",
        "    print(f\"{key}: {value}\")"
      ]
    },
    {
      "cell_type": "markdown",
      "metadata": {
        "id": "673a5b7e"
      },
      "source": [
        "**20.Explain the difference between a list and a dictionary in terms of data retrieval:**\n",
        "\n",
        "The main difference between lists and dictionaries in terms of data retrieval lies in how you access the elements:\n",
        "\n",
        "*   **Lists:** You access elements in a list by their **numerical index** (their position in the sequence). The first element is at index 0, the second at index 1, and so on. Retrieving an element by index is generally fast (O(1) on average), but finding a specific value without knowing its index requires iterating through the list (O(n) in the worst case).\n",
        "\n",
        "*   **Dictionaries:** You access elements in a dictionary by their **key**. Each value in a dictionary is associated with a unique key, and you use this key to retrieve the corresponding value. Retrieving a value by its key is very fast on average (O(1)), regardless of the size of the dictionary, because dictionaries use hash tables for efficient lookups.\n",
        "\n",
        "In summary:\n",
        "\n",
        "*   **Lists:** Retrieval by **position (index)**. Finding a value by its content can be slow.\n",
        "*   **Dictionaries:** Retrieval by **association (key)**. Finding a value by its key is very fast."
      ]
    },
    {
      "cell_type": "code",
      "execution_count": null,
      "metadata": {
        "colab": {
          "base_uri": "https://localhost:8080/"
        },
        "id": "b7dd320d",
        "outputId": "d117cfa8-8bc3-4fb6-fff7-c5f8811e4c09"
      },
      "outputs": [
        {
          "name": "stdout",
          "output_type": "stream",
          "text": [
            "List: ['apple', 'banana', 'cherry', 'date']\n",
            "Element at index 1 in list: banana\n",
            "Index of 'cherry' in list: 2\n",
            "--------------------\n",
            "Dictionary: {'fruit1': 'apple', 'fruit2': 'banana', 'fruit3': 'cherry', 'fruit4': 'date'}\n",
            "Value for key 'fruit2' in dictionary: banana\n",
            "Attempting to retrieve by index in dictionary failed: 0\n",
            "'cherry' found in dictionary values\n"
          ]
        }
      ],
      "source": [
        "# Example demonstrating data retrieval differences\n",
        "\n",
        "# Using a list\n",
        "my_list = [\"apple\", \"banana\", \"cherry\", \"date\"]\n",
        "print(\"List:\", my_list)\n",
        "\n",
        "# Retrieving by index in a list\n",
        "print(\"Element at index 1 in list:\", my_list[1])\n",
        "\n",
        "# Finding an element by value in a list (requires iteration)\n",
        "try:\n",
        "    index_of_cherry = my_list.index(\"cherry\")\n",
        "    print(\"Index of 'cherry' in list:\", index_of_cherry)\n",
        "except ValueError:\n",
        "    print(\"'cherry' not found in list\")\n",
        "\n",
        "\n",
        "print(\"-\" * 20) # Separator\n",
        "\n",
        "# Using a dictionary\n",
        "my_dict = {\"fruit1\": \"apple\", \"fruit2\": \"banana\", \"fruit3\": \"cherry\", \"fruit4\": \"date\"}\n",
        "print(\"Dictionary:\", my_dict)\n",
        "\n",
        "# Retrieving by key in a dictionary\n",
        "print(\"Value for key 'fruit2' in dictionary:\", my_dict[\"fruit2\"])\n",
        "\n",
        "# Attempting to retrieve by index in a dictionary (will result in an error)\n",
        "try:\n",
        "    print(\"Element at index 0 in dictionary:\", my_dict[0])\n",
        "except KeyError as e:\n",
        "    print(f\"Attempting to retrieve by index in dictionary failed: {e}\")\n",
        "\n",
        "# Checking for a value in a dictionary (requires checking values or items)\n",
        "if \"cherry\" in my_dict.values():\n",
        "    print(\"'cherry' found in dictionary values\")"
      ]
    },
    {
      "cell_type": "markdown",
      "metadata": {
        "id": "hgSwtU7-2Rdf"
      },
      "source": [
        "# **Data Types and Structures Practical Questions:**"
      ]
    },
    {
      "cell_type": "markdown",
      "metadata": {
        "id": "2yntCv_S3OoT"
      },
      "source": [
        "**1.Write a code to create a string with your name and print it:**"
      ]
    },
    {
      "cell_type": "code",
      "execution_count": null,
      "metadata": {
        "colab": {
          "base_uri": "https://localhost:8080/"
        },
        "id": "1878094e",
        "outputId": "fee8df6b-ebb0-4225-9712-87229cee398c"
      },
      "outputs": [
        {
          "name": "stdout",
          "output_type": "stream",
          "text": [
            "ANINDITA SANA\n"
          ]
        }
      ],
      "source": [
        "my_name = \"ANINDITA SANA\"\n",
        "print(my_name)"
      ]
    },
    {
      "cell_type": "markdown",
      "metadata": {
        "id": "NXJzbdn83ey_"
      },
      "source": [
        "**2.Write a code to find the length of the string \"Hello World\":**"
      ]
    },
    {
      "cell_type": "code",
      "execution_count": null,
      "metadata": {
        "colab": {
          "base_uri": "https://localhost:8080/"
        },
        "id": "f8d86376",
        "outputId": "57b9b90b-cafc-478c-d1a3-82b523cf4f4a"
      },
      "outputs": [
        {
          "name": "stdout",
          "output_type": "stream",
          "text": [
            "The length of the string 'Hello World' is: 11\n"
          ]
        }
      ],
      "source": [
        "my_string = \"Hello World\"\n",
        "string_length = len(my_string)\n",
        "print(f\"The length of the string '{my_string}' is: {string_length}\")"
      ]
    },
    {
      "cell_type": "markdown",
      "metadata": {
        "id": "67ve_uzJ312d"
      },
      "source": [
        "**3.Write a code to slice the first 3 characters from the string \"Python Programming\":**"
      ]
    },
    {
      "cell_type": "code",
      "execution_count": null,
      "metadata": {
        "colab": {
          "base_uri": "https://localhost:8080/"
        },
        "id": "c6991141",
        "outputId": "f148674d-66ec-4ef6-8bdd-00f12fff85ce"
      },
      "outputs": [
        {
          "name": "stdout",
          "output_type": "stream",
          "text": [
            "Pyt\n"
          ]
        }
      ],
      "source": [
        "my_string = \"Python Programming\"\n",
        "sliced_string = my_string[:3]\n",
        "print(sliced_string)"
      ]
    },
    {
      "cell_type": "markdown",
      "metadata": {
        "id": "cyTeyDOknKD-"
      },
      "source": [
        " **4.Write a code to convert the string \"hello\" to uppercase:**"
      ]
    },
    {
      "cell_type": "code",
      "execution_count": null,
      "metadata": {
        "colab": {
          "base_uri": "https://localhost:8080/"
        },
        "id": "84e5ec7f",
        "outputId": "7af2f597-f882-4740-87a4-73cc7aa612f8"
      },
      "outputs": [
        {
          "name": "stdout",
          "output_type": "stream",
          "text": [
            "HELLO\n"
          ]
        }
      ],
      "source": [
        "my_string = \"hello\"\n",
        "uppercase_string = my_string.upper()\n",
        "print(uppercase_string)"
      ]
    },
    {
      "cell_type": "markdown",
      "metadata": {
        "id": "Wev31DHEoYRY"
      },
      "source": [
        "**5.Write a code to replace the word \"apple\" with \"orange\" in the string \"I like apple\":**"
      ]
    },
    {
      "cell_type": "code",
      "execution_count": null,
      "metadata": {
        "colab": {
          "base_uri": "https://localhost:8080/"
        },
        "id": "3a521cca",
        "outputId": "f4c732d3-0ab7-446b-d371-46ecdd301e5b"
      },
      "outputs": [
        {
          "name": "stdout",
          "output_type": "stream",
          "text": [
            "I like orange\n"
          ]
        }
      ],
      "source": [
        "my_string = \"I like apple\"\n",
        "new_string = my_string.replace(\"apple\", \"orange\")\n",
        "print(new_string)"
      ]
    },
    {
      "cell_type": "markdown",
      "metadata": {
        "id": "xgY9C_IxpE6P"
      },
      "source": [
        "**6.Write a code to create a list with numbers 1 to 5 and print it:**"
      ]
    },
    {
      "cell_type": "code",
      "execution_count": null,
      "metadata": {
        "colab": {
          "base_uri": "https://localhost:8080/"
        },
        "id": "b84debd1",
        "outputId": "3ec221d0-69ec-4874-895c-4f3d5cc49f5e"
      },
      "outputs": [
        {
          "name": "stdout",
          "output_type": "stream",
          "text": [
            "[1, 2, 3, 4, 5]\n"
          ]
        }
      ],
      "source": [
        "my_list = [1, 2, 3, 4, 5]\n",
        "print(my_list)"
      ]
    },
    {
      "cell_type": "markdown",
      "metadata": {
        "id": "1MjtKk-Kpbeu"
      },
      "source": [
        "**7.Write a code to append the number 10 to the list [1, 2, 3, 4]:**"
      ]
    },
    {
      "cell_type": "code",
      "execution_count": null,
      "metadata": {
        "colab": {
          "base_uri": "https://localhost:8080/"
        },
        "id": "a640ce78",
        "outputId": "4bd45e18-806a-407f-8de8-a4e32bc455aa"
      },
      "outputs": [
        {
          "name": "stdout",
          "output_type": "stream",
          "text": [
            "[1, 2, 3, 4, 10]\n"
          ]
        }
      ],
      "source": [
        "my_list = [1, 2, 3, 4]\n",
        "my_list.append(10)\n",
        "print(my_list)"
      ]
    },
    {
      "cell_type": "markdown",
      "metadata": {
        "id": "PkaG3d1Gp0B6"
      },
      "source": [
        "**8.Write a code to remove the number 3 from the list [1, 2, 3, 4, 5]:**"
      ]
    },
    {
      "cell_type": "code",
      "execution_count": null,
      "metadata": {
        "colab": {
          "base_uri": "https://localhost:8080/"
        },
        "id": "e19766d0",
        "outputId": "57387a90-f443-46ba-ea82-67bdb2c70035"
      },
      "outputs": [
        {
          "name": "stdout",
          "output_type": "stream",
          "text": [
            "[1, 2, 4, 5]\n"
          ]
        }
      ],
      "source": [
        "my_list = [1, 2, 3, 4, 5]\n",
        "my_list.remove(3)\n",
        "print(my_list)"
      ]
    },
    {
      "cell_type": "markdown",
      "metadata": {
        "id": "8u7ZKs6TqHxv"
      },
      "source": [
        "**9. Write a code to access the second element in the list ['a', 'b', 'c', 'd']:**"
      ]
    },
    {
      "cell_type": "code",
      "execution_count": null,
      "metadata": {
        "colab": {
          "base_uri": "https://localhost:8080/"
        },
        "id": "e4d081aa",
        "outputId": "3575d0bd-84e9-49f5-f6cf-5ba8e46c1e0e"
      },
      "outputs": [
        {
          "name": "stdout",
          "output_type": "stream",
          "text": [
            "b\n"
          ]
        }
      ],
      "source": [
        "my_list = ['a', 'b', 'c', 'd']\n",
        "second_element = my_list[1]  # Accessing the element at index 1\n",
        "print(second_element)"
      ]
    },
    {
      "cell_type": "markdown",
      "metadata": {
        "id": "WB9W-0lHquv-"
      },
      "source": [
        "**10.Write a code to reverse the list [10, 20, 30, 40, 50]:**"
      ]
    },
    {
      "cell_type": "code",
      "execution_count": null,
      "metadata": {
        "colab": {
          "base_uri": "https://localhost:8080/"
        },
        "id": "3d8438e3",
        "outputId": "bca103f1-f364-4cfc-bb07-b80a1220a3eb"
      },
      "outputs": [
        {
          "name": "stdout",
          "output_type": "stream",
          "text": [
            "[50, 40, 30, 20, 10]\n"
          ]
        }
      ],
      "source": [
        "my_list = [10, 20, 30, 40, 50]\n",
        "my_list.reverse()\n",
        "print(my_list)"
      ]
    },
    {
      "cell_type": "markdown",
      "metadata": {
        "id": "7_CqYWnNrDm1"
      },
      "source": [
        "**11.Write a code to create a tuple with the elements 100, 200, 300 and print it:**"
      ]
    },
    {
      "cell_type": "code",
      "execution_count": null,
      "metadata": {
        "colab": {
          "base_uri": "https://localhost:8080/"
        },
        "id": "5baf1c3d",
        "outputId": "6894e631-6305-4a0e-fa91-607959b193d4"
      },
      "outputs": [
        {
          "name": "stdout",
          "output_type": "stream",
          "text": [
            "(100, 200, 300)\n"
          ]
        }
      ],
      "source": [
        "my_tuple = (100, 200, 300)\n",
        "print(my_tuple)"
      ]
    },
    {
      "cell_type": "markdown",
      "metadata": {
        "id": "pV4oySmirhRB"
      },
      "source": [
        "**12.Write a code to access the second-to-last element of the tuple ('red', 'green', 'blue', 'yellow'):**"
      ]
    },
    {
      "cell_type": "code",
      "execution_count": null,
      "metadata": {
        "colab": {
          "base_uri": "https://localhost:8080/"
        },
        "id": "d5acb6f0",
        "outputId": "924a1796-e3c8-479f-fd41-21eaa0d97b31"
      },
      "outputs": [
        {
          "name": "stdout",
          "output_type": "stream",
          "text": [
            "blue\n"
          ]
        }
      ],
      "source": [
        "my_tuple = ('red', 'green', 'blue', 'yellow')\n",
        "second_to_last_element = my_tuple[-2]  # Accessing the second-to-last element using negative index -2\n",
        "print(second_to_last_element)"
      ]
    },
    {
      "cell_type": "markdown",
      "metadata": {
        "id": "TP6Zn9zsr-HS"
      },
      "source": [
        "**13.Write a code to find the minimum number in the tuple (10, 20, 5, 15):**"
      ]
    },
    {
      "cell_type": "code",
      "execution_count": null,
      "metadata": {
        "colab": {
          "base_uri": "https://localhost:8080/"
        },
        "id": "72aba4bf",
        "outputId": "bcf4400b-b0ef-4332-b93c-0b373919fbfb"
      },
      "outputs": [
        {
          "name": "stdout",
          "output_type": "stream",
          "text": [
            "The minimum number in the tuple is: 5\n"
          ]
        }
      ],
      "source": [
        "my_tuple = (10, 20, 5, 15)\n",
        "minimum_number = min(my_tuple)\n",
        "print(f\"The minimum number in the tuple is: {minimum_number}\")"
      ]
    },
    {
      "cell_type": "markdown",
      "metadata": {
        "id": "jt48Z83msY0R"
      },
      "source": [
        "**14.Write a code to find the index of the element \"cat\" in the tuple ('dog', 'cat', 'rabbit'):**"
      ]
    },
    {
      "cell_type": "code",
      "execution_count": null,
      "metadata": {
        "colab": {
          "base_uri": "https://localhost:8080/"
        },
        "id": "c9b886b9",
        "outputId": "8acb5656-c45e-4d63-92d5-b9db27b4a259"
      },
      "outputs": [
        {
          "name": "stdout",
          "output_type": "stream",
          "text": [
            "The index of 'cat' in the tuple is: 1\n"
          ]
        }
      ],
      "source": [
        "my_tuple = ('dog', 'cat', 'rabbit')\n",
        "index_of_cat = my_tuple.index(\"cat\")\n",
        "print(f\"The index of 'cat' in the tuple is: {index_of_cat}\")"
      ]
    },
    {
      "cell_type": "markdown",
      "metadata": {
        "id": "bkj55dMBs3-s"
      },
      "source": [
        "**15.Write a code to create a tuple containing three different fruits and check if \"kiwi\" is in it:**"
      ]
    },
    {
      "cell_type": "code",
      "execution_count": null,
      "metadata": {
        "colab": {
          "base_uri": "https://localhost:8080/"
        },
        "id": "44db7ccb",
        "outputId": "cafeca5b-3eff-4d75-9fca-1dc2932bde37"
      },
      "outputs": [
        {
          "name": "stdout",
          "output_type": "stream",
          "text": [
            "Kiwi is not in the tuple.\n"
          ]
        }
      ],
      "source": [
        "fruits_tuple = (\"apple\", \"banana\", \"orange\")\n",
        "if \"kiwi\" in fruits_tuple:\n",
        "    print(\"Kiwi is in the tuple.\")\n",
        "else:\n",
        "    print(\"Kiwi is not in the tuple.\")"
      ]
    },
    {
      "cell_type": "markdown",
      "metadata": {
        "id": "dXzRWwOptSxT"
      },
      "source": [
        "**16.Write a code to create a set with the elements 'a', 'b', 'c' and print it:**"
      ]
    },
    {
      "cell_type": "code",
      "execution_count": null,
      "metadata": {
        "colab": {
          "base_uri": "https://localhost:8080/"
        },
        "id": "d095306e",
        "outputId": "cff6cfdc-c752-4076-cf6f-e954becbb388"
      },
      "outputs": [
        {
          "name": "stdout",
          "output_type": "stream",
          "text": [
            "{'b', 'c', 'a'}\n"
          ]
        }
      ],
      "source": [
        "my_set = {'a', 'b', 'c'}\n",
        "print(my_set)"
      ]
    },
    {
      "cell_type": "markdown",
      "metadata": {
        "id": "OjDfdYUvtk5w"
      },
      "source": [
        "**17. Write a code to clear all elements from the set {1, 2, 3, 4, 5}:**"
      ]
    },
    {
      "cell_type": "code",
      "execution_count": 19,
      "metadata": {
        "colab": {
          "base_uri": "https://localhost:8080/"
        },
        "id": "718680f9",
        "outputId": "99f6e3dc-6771-49d3-de97-95a32cc64724"
      },
      "outputs": [
        {
          "output_type": "stream",
          "name": "stdout",
          "text": [
            "set()\n"
          ]
        }
      ],
      "source": [
        "my_set = {1, 2, 3, 4, 5}\n",
        "my_set.clear()\n",
        "print(my_set)"
      ]
    },
    {
      "cell_type": "markdown",
      "source": [
        "**18. Write a code to remove the element 4 from the set {1, 2, 3, 4}:**"
      ],
      "metadata": {
        "id": "fREYk0ZqwH58"
      }
    },
    {
      "cell_type": "code",
      "metadata": {
        "colab": {
          "base_uri": "https://localhost:8080/"
        },
        "id": "48088e58",
        "outputId": "7e91d978-6665-4d5d-a387-a6d7366cedf3"
      },
      "source": [
        "my_set = {1, 2, 3, 4}\n",
        "my_set.remove(4)\n",
        "print(my_set)"
      ],
      "execution_count": 20,
      "outputs": [
        {
          "output_type": "stream",
          "name": "stdout",
          "text": [
            "{1, 2, 3}\n"
          ]
        }
      ]
    },
    {
      "cell_type": "markdown",
      "source": [
        "**19.Write a code to find the union of two sets {1, 2, 3} and {3, 4, 5}:**"
      ],
      "metadata": {
        "id": "ZTZCdQ8hws0Q"
      }
    },
    {
      "cell_type": "code",
      "metadata": {
        "colab": {
          "base_uri": "https://localhost:8080/"
        },
        "id": "debb6cb8",
        "outputId": "2a8ee494-af60-45fb-f0a5-f852e7f4a636"
      },
      "source": [
        "set1 = {1, 2, 3}\n",
        "set2 = {3, 4, 5}\n",
        "\n",
        "# Using the union() method\n",
        "union_set = set1.union(set2)\n",
        "print(f\"Union using union(): {union_set}\")\n",
        "\n",
        "# Using the | operator\n",
        "union_set_operator = set1 | set2\n",
        "print(f\"Union using | operator: {union_set_operator}\")"
      ],
      "execution_count": 21,
      "outputs": [
        {
          "output_type": "stream",
          "name": "stdout",
          "text": [
            "Union using union(): {1, 2, 3, 4, 5}\n",
            "Union using | operator: {1, 2, 3, 4, 5}\n"
          ]
        }
      ]
    },
    {
      "cell_type": "markdown",
      "source": [
        "**20.Write a code to find the intersection of two sets {1, 2, 3} and {2, 3, 4}:**"
      ],
      "metadata": {
        "id": "4H-fAfwTxCKl"
      }
    },
    {
      "cell_type": "code",
      "metadata": {
        "colab": {
          "base_uri": "https://localhost:8080/"
        },
        "id": "2d102e8e",
        "outputId": "35f37fd9-9c29-4ee2-f42f-6e22a1c72431"
      },
      "source": [
        "set1 = {1, 2, 3}\n",
        "set2 = {2, 3, 4}\n",
        "\n",
        "# Using the intersection() method\n",
        "intersection_set = set1.intersection(set2)\n",
        "print(f\"Intersection using intersection(): {intersection_set}\")\n",
        "\n",
        "# Using the & operator\n",
        "intersection_set_operator = set1 & set2\n",
        "print(f\"Intersection using & operator: {intersection_set_operator}\")"
      ],
      "execution_count": 22,
      "outputs": [
        {
          "output_type": "stream",
          "name": "stdout",
          "text": [
            "Intersection using intersection(): {2, 3}\n",
            "Intersection using & operator: {2, 3}\n"
          ]
        }
      ]
    },
    {
      "cell_type": "markdown",
      "source": [
        "**21.Write a code to create a dictionary with the keys \"name\", \"age\", and \"city\", and print it:**"
      ],
      "metadata": {
        "id": "vBfxY-4VxdVZ"
      }
    },
    {
      "cell_type": "code",
      "metadata": {
        "colab": {
          "base_uri": "https://localhost:8080/"
        },
        "id": "f573ef20",
        "outputId": "3ef1233b-5b2e-4397-8186-996f960c2f15"
      },
      "source": [
        "my_dict = {\n",
        "    \"name\": \"Anindita\",\n",
        "    \"age\": 30,\n",
        "    \"city\": \"KOLKATA\"\n",
        "}\n",
        "print(my_dict)"
      ],
      "execution_count": 24,
      "outputs": [
        {
          "output_type": "stream",
          "name": "stdout",
          "text": [
            "{'name': 'Anindita', 'age': 30, 'city': 'KOLKATA'}\n"
          ]
        }
      ]
    },
    {
      "cell_type": "markdown",
      "source": [
        "**22.Write a code to add a new key-value pair \"country\": \"USA\" to the dictionary {'name': 'John', 'age': 25}:**"
      ],
      "metadata": {
        "id": "LqgUQfYnyCSm"
      }
    },
    {
      "cell_type": "code",
      "metadata": {
        "colab": {
          "base_uri": "https://localhost:8080/"
        },
        "id": "eaa896c1",
        "outputId": "c7aca45b-7828-4441-affd-c843c4f9f1fd"
      },
      "source": [
        "my_dict = {'name': 'John', 'age': 25}\n",
        "my_dict[\"country\"] = \"USA\"\n",
        "print(my_dict)"
      ],
      "execution_count": 25,
      "outputs": [
        {
          "output_type": "stream",
          "name": "stdout",
          "text": [
            "{'name': 'John', 'age': 25, 'country': 'USA'}\n"
          ]
        }
      ]
    },
    {
      "cell_type": "markdown",
      "source": [
        "**23.Write a code to access the value associated with the key \"name\" in the dictionary {'name': 'Alice', 'age': 30}:**"
      ],
      "metadata": {
        "id": "sQkNSVpNyinD"
      }
    },
    {
      "cell_type": "code",
      "metadata": {
        "colab": {
          "base_uri": "https://localhost:8080/"
        },
        "id": "e4cf5364",
        "outputId": "c9dd1379-45f4-4ab9-ccbc-c352f793d75b"
      },
      "source": [
        "my_dict = {'name': 'Alice', 'age': 30}\n",
        "name_value = my_dict[\"name\"]\n",
        "print(name_value)"
      ],
      "execution_count": 26,
      "outputs": [
        {
          "output_type": "stream",
          "name": "stdout",
          "text": [
            "Alice\n"
          ]
        }
      ]
    },
    {
      "cell_type": "markdown",
      "source": [
        "**24.Write a code to remove the key \"age\" from the dictionary {'name': 'Bob', 'age': 22, 'city': 'New York'}:**"
      ],
      "metadata": {
        "id": "eZfQkr_zy-Gp"
      }
    },
    {
      "cell_type": "code",
      "metadata": {
        "colab": {
          "base_uri": "https://localhost:8080/"
        },
        "id": "dcc43f57",
        "outputId": "aa8aabc5-e4ad-4c0d-b899-ed95c8a40c2d"
      },
      "source": [
        "my_dict = {'name': 'Bob', 'age': 22, 'city': 'New York'}\n",
        "del my_dict[\"age\"]\n",
        "print(f\"Dictionary after using del: {my_dict}\")\n",
        "\n",
        "my_dict = {'name': 'Bob', 'age': 22, 'city': 'New York'} # Reset the dictionary for the next example\n",
        "age_value = my_dict.pop(\"age\")\n",
        "print(f\"Dictionary after using pop(): {my_dict}\")\n",
        "print(f\"Value of the removed key: {age_value}\")"
      ],
      "execution_count": 27,
      "outputs": [
        {
          "output_type": "stream",
          "name": "stdout",
          "text": [
            "Dictionary after using del: {'name': 'Bob', 'city': 'New York'}\n",
            "Dictionary after using pop(): {'name': 'Bob', 'city': 'New York'}\n",
            "Value of the removed key: 22\n"
          ]
        }
      ]
    },
    {
      "cell_type": "markdown",
      "source": [
        "**25.Write a code to check if the key \"city\" exists in the dictionary {'name': 'Alice', 'city': 'Paris'}:**"
      ],
      "metadata": {
        "id": "GCDv-Id3zWOf"
      }
    },
    {
      "cell_type": "code",
      "metadata": {
        "colab": {
          "base_uri": "https://localhost:8080/"
        },
        "id": "fdc049e6",
        "outputId": "77f34362-11f1-43c4-8825-b1f04d1dbaf8"
      },
      "source": [
        "my_dict = {'name': 'Alice', 'city': 'Paris'}\n",
        "if \"city\" in my_dict:\n",
        "    print(\"The key 'city' exists in the dictionary.\")\n",
        "else:\n",
        "    print(\"The key 'city' does not exist in the dictionary.\")"
      ],
      "execution_count": 28,
      "outputs": [
        {
          "output_type": "stream",
          "name": "stdout",
          "text": [
            "The key 'city' exists in the dictionary.\n"
          ]
        }
      ]
    },
    {
      "cell_type": "markdown",
      "source": [
        "**26.Write a code to create a list, a tuple, and a dictionary, and print them all:**"
      ],
      "metadata": {
        "id": "MxyRgNyJzr_o"
      }
    },
    {
      "cell_type": "code",
      "metadata": {
        "colab": {
          "base_uri": "https://localhost:8080/"
        },
        "id": "140a264f",
        "outputId": "eb1437db-2719-4b14-d26a-4a793a2ec6b3"
      },
      "source": [
        "# Create a list\n",
        "my_list = [1, 2, 3, \"apple\", \"banana\"]\n",
        "\n",
        "# Create a tuple\n",
        "my_tuple = (10, 20, 30, \"cherry\", \"date\")\n",
        "\n",
        "# Create a dictionary\n",
        "my_dict = {\n",
        "    \"name\": \"Alice\",\n",
        "    \"age\": 30,\n",
        "    \"city\": \"Paris\"\n",
        "}\n",
        "\n",
        "# Print all three\n",
        "print(\"My List:\", my_list)\n",
        "print(\"My Tuple:\", my_tuple)\n",
        "print(\"My Dictionary:\", my_dict)"
      ],
      "execution_count": 29,
      "outputs": [
        {
          "output_type": "stream",
          "name": "stdout",
          "text": [
            "My List: [1, 2, 3, 'apple', 'banana']\n",
            "My Tuple: (10, 20, 30, 'cherry', 'date')\n",
            "My Dictionary: {'name': 'Alice', 'age': 30, 'city': 'Paris'}\n"
          ]
        }
      ]
    },
    {
      "cell_type": "markdown",
      "source": [
        "**27.Write a code to create a list of 5 random numbers between 1 and 100, sort it in ascending order, and print the\n",
        "result.(replaced):**"
      ],
      "metadata": {
        "id": "fkM4zXmh0APF"
      }
    },
    {
      "cell_type": "code",
      "metadata": {
        "colab": {
          "base_uri": "https://localhost:8080/"
        },
        "id": "f3cb7c1f",
        "outputId": "93b5cddf-170a-4a43-aaad-aa14597ea01d"
      },
      "source": [
        "import random\n",
        "\n",
        "# Create a list of 5 random numbers between 1 and 100\n",
        "random_numbers = [random.randint(1, 100) for _ in range(5)]\n",
        "print(\"Original list of random numbers:\", random_numbers)\n",
        "\n",
        "# Sort the list in ascending order\n",
        "random_numbers.sort()\n",
        "\n",
        "# Print the sorted list\n",
        "print(\"Sorted list of random numbers:\", random_numbers)"
      ],
      "execution_count": 30,
      "outputs": [
        {
          "output_type": "stream",
          "name": "stdout",
          "text": [
            "Original list of random numbers: [90, 22, 77, 59, 76]\n",
            "Sorted list of random numbers: [22, 59, 76, 77, 90]\n"
          ]
        }
      ]
    },
    {
      "cell_type": "markdown",
      "source": [
        "**28.Write a code to create a list with strings and print the element at the third index:**"
      ],
      "metadata": {
        "id": "gCbx8owd0dzx"
      }
    },
    {
      "cell_type": "code",
      "metadata": {
        "colab": {
          "base_uri": "https://localhost:8080/"
        },
        "id": "8d4b20d7",
        "outputId": "dfedd14a-c686-4b25-a412-d965b8c7d897"
      },
      "source": [
        "my_list = [\"apple\", \"banana\", \"cherry\", \"date\", \"elderberry\"]\n",
        "print(my_list[2]) # Accessing the element at index 2"
      ],
      "execution_count": 31,
      "outputs": [
        {
          "output_type": "stream",
          "name": "stdout",
          "text": [
            "cherry\n"
          ]
        }
      ]
    },
    {
      "cell_type": "markdown",
      "source": [
        "**29.Write a code to combine two dictionaries into one and print the result:**"
      ],
      "metadata": {
        "id": "G6F3WUi_1MVL"
      }
    },
    {
      "cell_type": "code",
      "metadata": {
        "colab": {
          "base_uri": "https://localhost:8080/"
        },
        "id": "58554062",
        "outputId": "017342bd-e6ec-410b-db76-c59d193873b3"
      },
      "source": [
        "dict1 = {\"a\": 1, \"b\": 2}\n",
        "dict2 = {\"c\": 3, \"d\": 4}\n",
        "\n",
        "# Using the update() method\n",
        "combined_dict_update = dict1.copy() # Create a copy to avoid modifying the original dict1\n",
        "combined_dict_update.update(dict2)\n",
        "print(f\"Combined dictionary using update(): {combined_dict_update}\")\n",
        "\n",
        "# Using the ** operator (for Python 3.5+)\n",
        "combined_dict_operator = {**dict1, **dict2}\n",
        "print(f\"Combined dictionary using ** operator: {combined_dict_operator}\")"
      ],
      "execution_count": 32,
      "outputs": [
        {
          "output_type": "stream",
          "name": "stdout",
          "text": [
            "Combined dictionary using update(): {'a': 1, 'b': 2, 'c': 3, 'd': 4}\n",
            "Combined dictionary using ** operator: {'a': 1, 'b': 2, 'c': 3, 'd': 4}\n"
          ]
        }
      ]
    },
    {
      "cell_type": "markdown",
      "source": [
        "**30.Write a code to convert a list of strings into a set:**"
      ],
      "metadata": {
        "id": "ERXV7deT1fQx"
      }
    },
    {
      "cell_type": "code",
      "metadata": {
        "colab": {
          "base_uri": "https://localhost:8080/"
        },
        "id": "6966bc8b",
        "outputId": "713c8b1b-6141-4151-904c-c3078a2e7d1e"
      },
      "source": [
        "my_list = [\"apple\", \"banana\", \"cherry\", \"apple\", \"date\"]\n",
        "my_set = set(my_list)\n",
        "print(my_set)"
      ],
      "execution_count": 33,
      "outputs": [
        {
          "output_type": "stream",
          "name": "stdout",
          "text": [
            "{'banana', 'cherry', 'apple', 'date'}\n"
          ]
        }
      ]
    }
  ],
  "metadata": {
    "colab": {
      "provenance": []
    },
    "kernelspec": {
      "display_name": "Python 3",
      "name": "python3"
    },
    "language_info": {
      "name": "python"
    }
  },
  "nbformat": 4,
  "nbformat_minor": 0
}